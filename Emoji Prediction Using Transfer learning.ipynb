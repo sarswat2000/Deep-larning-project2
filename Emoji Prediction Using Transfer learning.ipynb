{
 "cells": [
  {
   "cell_type": "code",
   "execution_count": 1,
   "id": "df0de63e",
   "metadata": {},
   "outputs": [],
   "source": [
    "import emoji\n",
    "#emoji.EMOJI_UNICODE"
   ]
  },
  {
   "cell_type": "code",
   "execution_count": 2,
   "id": "e36695c1",
   "metadata": {},
   "outputs": [],
   "source": [
    "emoji_dictionary={\"0\":\"\\u2764\\uFE0F\",\n",
    "                  \"1\":\":baseball:\",\n",
    "                  \"2\":\":grinning_face_with_big_eyes:\",\n",
    "                  \"3\":\":disappointed_face:\",\n",
    "                  \"4\":\":fork_and_knife:\",\n",
    "                  \"5\":\":hundred_points:\",\n",
    "                  \"6\":\":fire:\",\n",
    "                  \"7\":\":face_blowing_a_kiss:\",\n",
    "                  \"8\":\":chestnut:\",\n",
    "                  \"9\":\":flexed_biceps:\"}"
   ]
  },
  {
   "cell_type": "code",
   "execution_count": 3,
   "id": "4ca95bde",
   "metadata": {},
   "outputs": [
    {
     "name": "stdout",
     "output_type": "stream",
     "text": [
      "❤️\n",
      "⚾\n",
      "😃\n",
      "😞\n",
      "🍴\n",
      "💯\n",
      "🔥\n",
      "😘\n",
      "🌰\n",
      "💪\n"
     ]
    }
   ],
   "source": [
    "for e in emoji_dictionary.values():\n",
    "    print(emoji.emojize(e))"
   ]
  },
  {
   "cell_type": "markdown",
   "id": "c5f7684f",
   "metadata": {},
   "source": [
    "## processing a custom_dataset"
   ]
  },
  {
   "cell_type": "code",
   "execution_count": 4,
   "id": "77feb029",
   "metadata": {},
   "outputs": [],
   "source": [
    "import pandas as pd\n",
    "import numpy as np\n"
   ]
  },
  {
   "cell_type": "code",
   "execution_count": 5,
   "id": "03455f29",
   "metadata": {},
   "outputs": [],
   "source": [
    "train=pd.read_csv(\"./Downloads/emoji-prediction-code/train_emoji.csv\",header=None)\n",
    "test=pd.read_csv(\"./Downloads/emoji-prediction-code/test_emoji.csv\",header=None)\n"
   ]
  },
  {
   "cell_type": "code",
   "execution_count": 6,
   "id": "ecc01ed0",
   "metadata": {},
   "outputs": [],
   "source": [
    "Train=train.values\n",
    "Test=test.values"
   ]
  },
  {
   "cell_type": "code",
   "execution_count": 7,
   "id": "26443ec1",
   "metadata": {},
   "outputs": [],
   "source": [
    "X_train=Train[:,0]\n",
    "Y_train=Train[:,1]\n",
    "X_test=Test[:,0]\n",
    "Y_test=Test[:,1]"
   ]
  },
  {
   "cell_type": "code",
   "execution_count": 8,
   "id": "5a7e9d2a",
   "metadata": {},
   "outputs": [
    {
     "name": "stdout",
     "output_type": "stream",
     "text": [
      "never talk to me again 😞\n",
      "I am proud of your achievements 😃\n",
      "It is the worst day in my life 😞\n",
      "Miss you so much ❤️\n",
      "food is life 🍴\n"
     ]
    }
   ],
   "source": [
    "for i in range (5):\n",
    "    print(X_train[i],emoji.emojize(emoji_dictionary[str(Y_train[i])]))"
   ]
  },
  {
   "cell_type": "markdown",
   "id": "d4a29005",
   "metadata": {},
   "source": [
    "## Converting Sentence into Embeddings"
   ]
  },
  {
   "cell_type": "code",
   "execution_count": null,
   "id": "ca7949d9",
   "metadata": {},
   "outputs": [],
   "source": []
  },
  {
   "cell_type": "code",
   "execution_count": 9,
   "id": "57065c4a",
   "metadata": {},
   "outputs": [],
   "source": [
    "#all the sentence mapped with 50 dimensional vector using Glove 6B.50D"
   ]
  },
  {
   "cell_type": "code",
   "execution_count": 10,
   "id": "eac2b7c0",
   "metadata": {},
   "outputs": [],
   "source": [
    "f=open(\"./Downloads/glove.6B.50d.txt/glove.6B.50d.txt\",encoding=\"utf-8\")\n"
   ]
  },
  {
   "cell_type": "code",
   "execution_count": 11,
   "id": "246bd581",
   "metadata": {},
   "outputs": [],
   "source": [
    "embeddings_index={}\n",
    "cnt=0\n",
    "for line in f:\n",
    "    values=line.split()\n",
    "    word=values[0]\n",
    "    coefs=np.asarray(values[1:],dtype=\"float\")\n",
    "    #print(word,coefs)\n",
    "    embeddings_index[word]=coefs\n",
    "f.close()"
   ]
  },
  {
   "cell_type": "code",
   "execution_count": 12,
   "id": "391ece4b",
   "metadata": {},
   "outputs": [
    {
     "data": {
      "text/plain": [
       "(50,)"
      ]
     },
     "execution_count": 12,
     "metadata": {},
     "output_type": "execute_result"
    }
   ],
   "source": [
    "embeddings_index[\"talk\"].shape"
   ]
  },
  {
   "cell_type": "markdown",
   "id": "6f8a3256",
   "metadata": {},
   "source": [
    "## Converting sentence into vectors (output which comes from embedding_layers)"
   ]
  },
  {
   "cell_type": "code",
   "execution_count": 13,
   "id": "a40ec730",
   "metadata": {},
   "outputs": [],
   "source": [
    "def embedding_output(X):\n",
    "    max_Len=10\n",
    "    emb_dim=50\n",
    "    embedding_out=np.zeros((X.shape[0],max_Len,emb_dim))\n",
    "    \n",
    "    for ix in range(X.shape[0]):\n",
    "        X[ix]=X[ix].split()\n",
    "        for ij in range(len(X[ix])):\n",
    "            #go to every word in the current (ix) sentence\n",
    "            try:\n",
    "                embedding_out[ix][ij]=embeddings_index[X[ix][ij].lower()]\n",
    "            except:\n",
    "                embedding_out[ix][ij]=np.zeros((50,))\n",
    "    return embedding_out"
   ]
  },
  {
   "cell_type": "code",
   "execution_count": 14,
   "id": "e4de931d",
   "metadata": {},
   "outputs": [],
   "source": [
    "embedding_matrix_train=embedding_output(X_train)\n",
    "embedding_matrix_test=embedding_output(X_test)\n"
   ]
  },
  {
   "cell_type": "code",
   "execution_count": 15,
   "id": "8d1c319a",
   "metadata": {},
   "outputs": [
    {
     "name": "stdout",
     "output_type": "stream",
     "text": [
      "(132, 10, 50) (56, 10, 50)\n"
     ]
    }
   ],
   "source": [
    "print(embedding_matrix_train.shape,embedding_matrix_test.shape)"
   ]
  },
  {
   "cell_type": "code",
   "execution_count": 16,
   "id": "94d759b2",
   "metadata": {},
   "outputs": [
    {
     "name": "stdout",
     "output_type": "stream",
     "text": [
      "['I', 'am', 'proud', 'of', 'your', 'achievements']\n"
     ]
    }
   ],
   "source": [
    "#We converted our list into splitted form\n",
    "print(X_train[1])"
   ]
  },
  {
   "cell_type": "markdown",
   "id": "e4962647",
   "metadata": {},
   "source": [
    "## Create RNN/LSTM model"
   ]
  },
  {
   "cell_type": "code",
   "execution_count": 17,
   "id": "427988e3",
   "metadata": {},
   "outputs": [],
   "source": [
    "from keras.models import Sequential\n",
    "from keras.layers import *"
   ]
  },
  {
   "cell_type": "code",
   "execution_count": 18,
   "id": "e6e26be3",
   "metadata": {},
   "outputs": [
    {
     "name": "stdout",
     "output_type": "stream",
     "text": [
      "Model: \"sequential\"\n",
      "_________________________________________________________________\n",
      "Layer (type)                 Output Shape              Param #   \n",
      "=================================================================\n",
      "lstm (LSTM)                  (None, 64)                29440     \n",
      "_________________________________________________________________\n",
      "dropout (Dropout)            (None, 64)                0         \n",
      "_________________________________________________________________\n",
      "dense (Dense)                (None, 5)                 325       \n",
      "=================================================================\n",
      "Total params: 29,765\n",
      "Trainable params: 29,765\n",
      "Non-trainable params: 0\n",
      "_________________________________________________________________\n"
     ]
    }
   ],
   "source": [
    "model=Sequential()\n",
    "model.add(LSTM(64,input_shape=(10,50)))\n",
    "model.add(Dropout(0.5))\n",
    "model.add(Dense(5,activation=\"softmax\"))\n",
    "model.compile(loss='categorical_crossentropy',optimizer='adam',metrics=['acc'])\n",
    "model.summary()"
   ]
  },
  {
   "cell_type": "code",
   "execution_count": 19,
   "id": "f89e6145",
   "metadata": {},
   "outputs": [],
   "source": [
    "from keras.utils import np_utils\n",
    "categorical=np_utils.to_categorical\n",
    "Y_train=categorical(Y_train,num_classes=5)\n",
    "Y_test=categorical(Y_test,num_classes=5)"
   ]
  },
  {
   "cell_type": "code",
   "execution_count": 20,
   "id": "777952b1",
   "metadata": {},
   "outputs": [
    {
     "name": "stdout",
     "output_type": "stream",
     "text": [
      "Epoch 1/100\n",
      "2/2 [==============================] - 4s 1s/step - loss: 1.6076 - acc: 0.1905 - val_loss: 1.5843 - val_acc: 0.3333\n",
      "Epoch 2/100\n",
      "2/2 [==============================] - 0s 86ms/step - loss: 1.5955 - acc: 0.2762 - val_loss: 1.5764 - val_acc: 0.2593\n",
      "Epoch 3/100\n",
      "2/2 [==============================] - 0s 71ms/step - loss: 1.5440 - acc: 0.3333 - val_loss: 1.5732 - val_acc: 0.2593\n",
      "Epoch 4/100\n",
      "2/2 [==============================] - 0s 56ms/step - loss: 1.5451 - acc: 0.3333 - val_loss: 1.5723 - val_acc: 0.2222\n",
      "Epoch 5/100\n",
      "2/2 [==============================] - 0s 58ms/step - loss: 1.4956 - acc: 0.4095 - val_loss: 1.5747 - val_acc: 0.2222\n",
      "Epoch 6/100\n",
      "2/2 [==============================] - 0s 52ms/step - loss: 1.5030 - acc: 0.3905 - val_loss: 1.5770 - val_acc: 0.2222\n",
      "Epoch 7/100\n",
      "2/2 [==============================] - 0s 48ms/step - loss: 1.4703 - acc: 0.3905 - val_loss: 1.5787 - val_acc: 0.2222\n",
      "Epoch 8/100\n",
      "2/2 [==============================] - 0s 48ms/step - loss: 1.4223 - acc: 0.4476 - val_loss: 1.5802 - val_acc: 0.2222\n",
      "Epoch 9/100\n",
      "2/2 [==============================] - 0s 48ms/step - loss: 1.4367 - acc: 0.3714 - val_loss: 1.5809 - val_acc: 0.2593\n",
      "Epoch 10/100\n",
      "2/2 [==============================] - 0s 47ms/step - loss: 1.4224 - acc: 0.4000 - val_loss: 1.5765 - val_acc: 0.2593\n",
      "Epoch 11/100\n",
      "2/2 [==============================] - 0s 52ms/step - loss: 1.3808 - acc: 0.4476 - val_loss: 1.5663 - val_acc: 0.2222\n",
      "Epoch 12/100\n",
      "2/2 [==============================] - 0s 52ms/step - loss: 1.3335 - acc: 0.4667 - val_loss: 1.5464 - val_acc: 0.2963\n",
      "Epoch 13/100\n",
      "2/2 [==============================] - 0s 52ms/step - loss: 1.3269 - acc: 0.4857 - val_loss: 1.5250 - val_acc: 0.2593\n",
      "Epoch 14/100\n",
      "2/2 [==============================] - 0s 51ms/step - loss: 1.2940 - acc: 0.5048 - val_loss: 1.4994 - val_acc: 0.2963\n",
      "Epoch 15/100\n",
      "2/2 [==============================] - 0s 48ms/step - loss: 1.2579 - acc: 0.5524 - val_loss: 1.4760 - val_acc: 0.2222\n",
      "Epoch 16/100\n",
      "2/2 [==============================] - 0s 48ms/step - loss: 1.2369 - acc: 0.5810 - val_loss: 1.4480 - val_acc: 0.2222\n",
      "Epoch 17/100\n",
      "2/2 [==============================] - 0s 50ms/step - loss: 1.2222 - acc: 0.4952 - val_loss: 1.4133 - val_acc: 0.2963\n",
      "Epoch 18/100\n",
      "2/2 [==============================] - 0s 54ms/step - loss: 1.1603 - acc: 0.5238 - val_loss: 1.3746 - val_acc: 0.3333\n",
      "Epoch 19/100\n",
      "2/2 [==============================] - 0s 63ms/step - loss: 1.1204 - acc: 0.5810 - val_loss: 1.3385 - val_acc: 0.3333\n",
      "Epoch 20/100\n",
      "2/2 [==============================] - 0s 75ms/step - loss: 1.1212 - acc: 0.5714 - val_loss: 1.3004 - val_acc: 0.3333\n",
      "Epoch 21/100\n",
      "2/2 [==============================] - 0s 74ms/step - loss: 1.0499 - acc: 0.6286 - val_loss: 1.2746 - val_acc: 0.3704\n",
      "Epoch 22/100\n",
      "2/2 [==============================] - 0s 51ms/step - loss: 0.9827 - acc: 0.6667 - val_loss: 1.2322 - val_acc: 0.4074\n",
      "Epoch 23/100\n",
      "2/2 [==============================] - 0s 55ms/step - loss: 0.9344 - acc: 0.6952 - val_loss: 1.1819 - val_acc: 0.4444\n",
      "Epoch 24/100\n",
      "2/2 [==============================] - 0s 49ms/step - loss: 0.9154 - acc: 0.6952 - val_loss: 1.1494 - val_acc: 0.4444\n",
      "Epoch 25/100\n",
      "2/2 [==============================] - 0s 48ms/step - loss: 0.8229 - acc: 0.7619 - val_loss: 1.1616 - val_acc: 0.4444\n",
      "Epoch 26/100\n",
      "2/2 [==============================] - 0s 50ms/step - loss: 0.8014 - acc: 0.7429 - val_loss: 1.2098 - val_acc: 0.5185\n",
      "Epoch 27/100\n",
      "2/2 [==============================] - 0s 51ms/step - loss: 0.7729 - acc: 0.7143 - val_loss: 1.1235 - val_acc: 0.5185\n",
      "Epoch 28/100\n",
      "2/2 [==============================] - 0s 49ms/step - loss: 0.7128 - acc: 0.7619 - val_loss: 1.0354 - val_acc: 0.5556\n",
      "Epoch 29/100\n",
      "2/2 [==============================] - 0s 50ms/step - loss: 0.6610 - acc: 0.7905 - val_loss: 1.0093 - val_acc: 0.6667\n",
      "Epoch 30/100\n",
      "2/2 [==============================] - 0s 51ms/step - loss: 0.6193 - acc: 0.8190 - val_loss: 1.0374 - val_acc: 0.5926\n",
      "Epoch 31/100\n",
      "2/2 [==============================] - 0s 50ms/step - loss: 0.5612 - acc: 0.7714 - val_loss: 0.9508 - val_acc: 0.6296\n",
      "Epoch 32/100\n",
      "2/2 [==============================] - 0s 48ms/step - loss: 0.5198 - acc: 0.8476 - val_loss: 0.9011 - val_acc: 0.7037\n",
      "Epoch 33/100\n",
      "2/2 [==============================] - 0s 53ms/step - loss: 0.4976 - acc: 0.8667 - val_loss: 0.8700 - val_acc: 0.7407\n",
      "Epoch 34/100\n",
      "2/2 [==============================] - 0s 49ms/step - loss: 0.4683 - acc: 0.8476 - val_loss: 0.9108 - val_acc: 0.7407\n",
      "Epoch 35/100\n",
      "2/2 [==============================] - 0s 49ms/step - loss: 0.4155 - acc: 0.8476 - val_loss: 0.8694 - val_acc: 0.7037\n",
      "Epoch 36/100\n",
      "2/2 [==============================] - 0s 46ms/step - loss: 0.4192 - acc: 0.8667 - val_loss: 0.9024 - val_acc: 0.6296\n",
      "Epoch 37/100\n",
      "2/2 [==============================] - 0s 56ms/step - loss: 0.4041 - acc: 0.9048 - val_loss: 0.8920 - val_acc: 0.6667\n",
      "Epoch 38/100\n",
      "2/2 [==============================] - 0s 55ms/step - loss: 0.3285 - acc: 0.9143 - val_loss: 0.9459 - val_acc: 0.6667\n",
      "Epoch 39/100\n",
      "2/2 [==============================] - 0s 72ms/step - loss: 0.3488 - acc: 0.8762 - val_loss: 0.8333 - val_acc: 0.7037\n",
      "Epoch 40/100\n",
      "2/2 [==============================] - 0s 79ms/step - loss: 0.2829 - acc: 0.9238 - val_loss: 0.8072 - val_acc: 0.6667\n",
      "Epoch 41/100\n",
      "2/2 [==============================] - 0s 53ms/step - loss: 0.3028 - acc: 0.8857 - val_loss: 0.7634 - val_acc: 0.7037\n",
      "Epoch 42/100\n",
      "2/2 [==============================] - 0s 51ms/step - loss: 0.2406 - acc: 0.9524 - val_loss: 0.7350 - val_acc: 0.7778\n",
      "Epoch 43/100\n",
      "2/2 [==============================] - 0s 57ms/step - loss: 0.2519 - acc: 0.9143 - val_loss: 0.7953 - val_acc: 0.7407\n",
      "Epoch 44/100\n",
      "2/2 [==============================] - 0s 55ms/step - loss: 0.2575 - acc: 0.9429 - val_loss: 0.7425 - val_acc: 0.7037\n",
      "Epoch 45/100\n",
      "2/2 [==============================] - 0s 59ms/step - loss: 0.2071 - acc: 0.9238 - val_loss: 0.8309 - val_acc: 0.6667\n",
      "Epoch 46/100\n",
      "2/2 [==============================] - 0s 52ms/step - loss: 0.2077 - acc: 0.9429 - val_loss: 0.8704 - val_acc: 0.6667\n",
      "Epoch 47/100\n",
      "2/2 [==============================] - 0s 51ms/step - loss: 0.1740 - acc: 0.9619 - val_loss: 0.8636 - val_acc: 0.7037\n",
      "Epoch 48/100\n",
      "2/2 [==============================] - 0s 72ms/step - loss: 0.1213 - acc: 0.9810 - val_loss: 0.8835 - val_acc: 0.7407\n",
      "Epoch 49/100\n",
      "2/2 [==============================] - 0s 77ms/step - loss: 0.1485 - acc: 0.9714 - val_loss: 0.9075 - val_acc: 0.7407\n",
      "Epoch 50/100\n",
      "2/2 [==============================] - 0s 84ms/step - loss: 0.1242 - acc: 0.9905 - val_loss: 0.9214 - val_acc: 0.6667\n",
      "Epoch 51/100\n",
      "2/2 [==============================] - 0s 58ms/step - loss: 0.1187 - acc: 0.9905 - val_loss: 0.9077 - val_acc: 0.6296\n",
      "Epoch 52/100\n",
      "2/2 [==============================] - 0s 56ms/step - loss: 0.1436 - acc: 0.9714 - val_loss: 0.8153 - val_acc: 0.7407\n",
      "Epoch 53/100\n",
      "2/2 [==============================] - 0s 54ms/step - loss: 0.1074 - acc: 0.9905 - val_loss: 0.7470 - val_acc: 0.7778\n",
      "Epoch 54/100\n",
      "2/2 [==============================] - 0s 53ms/step - loss: 0.0969 - acc: 0.9810 - val_loss: 0.8330 - val_acc: 0.7407\n",
      "Epoch 55/100\n",
      "2/2 [==============================] - 0s 61ms/step - loss: 0.1472 - acc: 0.9619 - val_loss: 0.8249 - val_acc: 0.7407\n",
      "Epoch 56/100\n",
      "2/2 [==============================] - 0s 62ms/step - loss: 0.0958 - acc: 0.9810 - val_loss: 0.7678 - val_acc: 0.7778\n",
      "Epoch 57/100\n",
      "2/2 [==============================] - 0s 73ms/step - loss: 0.0882 - acc: 0.9905 - val_loss: 0.8706 - val_acc: 0.7037\n",
      "Epoch 58/100\n",
      "2/2 [==============================] - 0s 60ms/step - loss: 0.1065 - acc: 0.9714 - val_loss: 0.8183 - val_acc: 0.7407\n",
      "Epoch 59/100\n",
      "2/2 [==============================] - 0s 91ms/step - loss: 0.0648 - acc: 0.9905 - val_loss: 1.1897 - val_acc: 0.6296\n",
      "Epoch 60/100\n",
      "2/2 [==============================] - 0s 95ms/step - loss: 0.1305 - acc: 0.9429 - val_loss: 0.8011 - val_acc: 0.7778\n",
      "Epoch 61/100\n",
      "2/2 [==============================] - 0s 100ms/step - loss: 0.0754 - acc: 0.9810 - val_loss: 0.9779 - val_acc: 0.7037\n",
      "Epoch 62/100\n",
      "2/2 [==============================] - 0s 81ms/step - loss: 0.1011 - acc: 0.9810 - val_loss: 0.9490 - val_acc: 0.7037\n",
      "Epoch 63/100\n"
     ]
    },
    {
     "name": "stdout",
     "output_type": "stream",
     "text": [
      "2/2 [==============================] - 0s 91ms/step - loss: 0.0878 - acc: 0.9810 - val_loss: 0.9779 - val_acc: 0.6667\n",
      "Epoch 64/100\n",
      "2/2 [==============================] - 0s 57ms/step - loss: 0.0888 - acc: 0.9714 - val_loss: 1.0102 - val_acc: 0.7037\n",
      "Epoch 65/100\n",
      "2/2 [==============================] - 0s 46ms/step - loss: 0.0851 - acc: 0.9714 - val_loss: 0.8332 - val_acc: 0.8148\n",
      "Epoch 66/100\n",
      "2/2 [==============================] - 0s 45ms/step - loss: 0.0775 - acc: 0.9810 - val_loss: 0.9824 - val_acc: 0.6667\n",
      "Epoch 67/100\n",
      "2/2 [==============================] - 0s 50ms/step - loss: 0.0839 - acc: 0.9810 - val_loss: 0.9721 - val_acc: 0.7037\n",
      "Epoch 68/100\n",
      "2/2 [==============================] - 0s 51ms/step - loss: 0.0857 - acc: 0.9810 - val_loss: 0.9886 - val_acc: 0.7037\n",
      "Epoch 69/100\n",
      "2/2 [==============================] - 0s 51ms/step - loss: 0.0632 - acc: 0.9810 - val_loss: 0.9090 - val_acc: 0.7037\n",
      "Epoch 70/100\n",
      "2/2 [==============================] - 0s 47ms/step - loss: 0.0557 - acc: 0.9905 - val_loss: 0.7996 - val_acc: 0.7778\n",
      "Epoch 71/100\n",
      "2/2 [==============================] - 0s 47ms/step - loss: 0.0745 - acc: 0.9810 - val_loss: 0.7602 - val_acc: 0.7778\n",
      "Epoch 72/100\n",
      "2/2 [==============================] - 0s 46ms/step - loss: 0.0390 - acc: 0.9905 - val_loss: 0.8339 - val_acc: 0.7407\n",
      "Epoch 73/100\n",
      "2/2 [==============================] - 0s 45ms/step - loss: 0.0610 - acc: 0.9810 - val_loss: 0.7674 - val_acc: 0.7407\n",
      "Epoch 74/100\n",
      "2/2 [==============================] - 0s 50ms/step - loss: 0.0468 - acc: 0.9905 - val_loss: 0.8164 - val_acc: 0.7778\n",
      "Epoch 75/100\n",
      "2/2 [==============================] - 0s 53ms/step - loss: 0.0423 - acc: 0.9905 - val_loss: 0.8714 - val_acc: 0.7778\n",
      "Epoch 76/100\n",
      "2/2 [==============================] - 0s 51ms/step - loss: 0.0538 - acc: 0.9905 - val_loss: 0.8874 - val_acc: 0.7407\n",
      "Epoch 77/100\n",
      "2/2 [==============================] - 0s 52ms/step - loss: 0.0467 - acc: 0.9905 - val_loss: 0.7829 - val_acc: 0.8148\n",
      "Epoch 78/100\n",
      "2/2 [==============================] - 0s 46ms/step - loss: 0.0385 - acc: 0.9905 - val_loss: 0.7877 - val_acc: 0.7407\n",
      "Epoch 79/100\n",
      "2/2 [==============================] - 0s 47ms/step - loss: 0.0498 - acc: 0.9905 - val_loss: 0.8149 - val_acc: 0.7778\n",
      "Epoch 80/100\n",
      "2/2 [==============================] - 0s 51ms/step - loss: 0.0344 - acc: 1.0000 - val_loss: 0.7717 - val_acc: 0.8148\n",
      "Epoch 81/100\n",
      "2/2 [==============================] - 0s 49ms/step - loss: 0.0453 - acc: 0.9905 - val_loss: 0.8071 - val_acc: 0.7407\n",
      "Epoch 82/100\n",
      "2/2 [==============================] - 0s 49ms/step - loss: 0.0330 - acc: 1.0000 - val_loss: 0.8343 - val_acc: 0.7407\n",
      "Epoch 83/100\n",
      "2/2 [==============================] - 0s 50ms/step - loss: 0.0315 - acc: 0.9905 - val_loss: 0.8369 - val_acc: 0.7778\n",
      "Epoch 84/100\n",
      "2/2 [==============================] - 0s 111ms/step - loss: 0.0281 - acc: 0.9905 - val_loss: 0.8554 - val_acc: 0.7778\n",
      "Epoch 85/100\n",
      "2/2 [==============================] - 0s 64ms/step - loss: 0.0314 - acc: 0.9905 - val_loss: 0.9252 - val_acc: 0.7037\n",
      "Epoch 86/100\n",
      "2/2 [==============================] - 0s 47ms/step - loss: 0.0376 - acc: 1.0000 - val_loss: 0.9676 - val_acc: 0.7037\n",
      "Epoch 87/100\n",
      "2/2 [==============================] - 0s 51ms/step - loss: 0.0271 - acc: 1.0000 - val_loss: 0.9788 - val_acc: 0.7037\n",
      "Epoch 88/100\n",
      "2/2 [==============================] - 0s 49ms/step - loss: 0.0342 - acc: 0.9905 - val_loss: 0.9823 - val_acc: 0.7407\n",
      "Epoch 89/100\n",
      "2/2 [==============================] - 0s 48ms/step - loss: 0.0336 - acc: 1.0000 - val_loss: 0.9596 - val_acc: 0.7037\n",
      "Epoch 90/100\n",
      "2/2 [==============================] - 0s 47ms/step - loss: 0.0236 - acc: 1.0000 - val_loss: 0.9021 - val_acc: 0.7037\n",
      "Epoch 91/100\n",
      "2/2 [==============================] - 0s 44ms/step - loss: 0.0278 - acc: 1.0000 - val_loss: 0.8351 - val_acc: 0.7778\n",
      "Epoch 92/100\n",
      "2/2 [==============================] - 0s 47ms/step - loss: 0.0348 - acc: 0.9905 - val_loss: 0.8042 - val_acc: 0.7778\n",
      "Epoch 93/100\n",
      "2/2 [==============================] - 0s 47ms/step - loss: 0.0302 - acc: 1.0000 - val_loss: 0.8023 - val_acc: 0.7778\n",
      "Epoch 94/100\n",
      "2/2 [==============================] - 0s 50ms/step - loss: 0.0302 - acc: 1.0000 - val_loss: 0.8021 - val_acc: 0.7407\n",
      "Epoch 95/100\n",
      "2/2 [==============================] - 0s 50ms/step - loss: 0.0238 - acc: 1.0000 - val_loss: 0.8020 - val_acc: 0.7407\n",
      "Epoch 96/100\n",
      "2/2 [==============================] - 0s 49ms/step - loss: 0.0188 - acc: 1.0000 - val_loss: 0.8045 - val_acc: 0.7407\n",
      "Epoch 97/100\n",
      "2/2 [==============================] - 0s 45ms/step - loss: 0.0226 - acc: 1.0000 - val_loss: 0.8135 - val_acc: 0.7407\n",
      "Epoch 98/100\n",
      "2/2 [==============================] - 0s 48ms/step - loss: 0.0148 - acc: 1.0000 - val_loss: 0.8296 - val_acc: 0.7407\n",
      "Epoch 99/100\n",
      "2/2 [==============================] - 0s 64ms/step - loss: 0.0267 - acc: 1.0000 - val_loss: 0.8392 - val_acc: 0.7778\n",
      "Epoch 100/100\n",
      "2/2 [==============================] - 0s 46ms/step - loss: 0.0285 - acc: 0.9905 - val_loss: 0.8231 - val_acc: 0.7778\n"
     ]
    }
   ],
   "source": [
    "hist=model.fit(embedding_matrix_train,Y_train,epochs=100,batch_size=64,shuffle=True,validation_split=0.2)"
   ]
  },
  {
   "cell_type": "code",
   "execution_count": 21,
   "id": "96611da7",
   "metadata": {},
   "outputs": [],
   "source": [
    "##it is doing overfitting"
   ]
  },
  {
   "cell_type": "code",
   "execution_count": 22,
   "id": "ffb1b5b1",
   "metadata": {},
   "outputs": [
    {
     "data": {
      "text/plain": [
       "array([4, 3, 3, 2, 2, 2, 3, 2, 4, 2, 1, 2, 0, 0, 1, 3, 3, 2, 3, 4, 0, 0,\n",
       "       4, 2, 3, 3, 2, 0, 3, 2, 0, 1, 3, 2, 0, 1, 2, 3, 4, 2, 2, 0, 0, 1,\n",
       "       2, 2, 2, 2, 3, 1, 3, 0, 3, 2, 3, 3], dtype=int64)"
      ]
     },
     "execution_count": 22,
     "metadata": {},
     "output_type": "execute_result"
    }
   ],
   "source": [
    "predict_x=model.predict(embedding_matrix_test) \n",
    "classes_x=np.argmax(predict_x,axis=1)\n",
    "classes_x"
   ]
  },
  {
   "cell_type": "code",
   "execution_count": 23,
   "id": "2f6adb8a",
   "metadata": {},
   "outputs": [
    {
     "name": "stdout",
     "output_type": "stream",
     "text": [
      "2/2 [==============================] - 0s 6ms/step - loss: 1.7696 - acc: 0.6607\n"
     ]
    },
    {
     "data": {
      "text/plain": [
       "[1.7696465253829956, 0.6607142686843872]"
      ]
     },
     "execution_count": 23,
     "metadata": {},
     "output_type": "execute_result"
    }
   ],
   "source": [
    "model.evaluate(embedding_matrix_test,Y_test)"
   ]
  },
  {
   "cell_type": "code",
   "execution_count": 24,
   "id": "5ec89c1f",
   "metadata": {},
   "outputs": [],
   "source": [
    "##Early stopping and Model_Checkpoint"
   ]
  },
  {
   "cell_type": "code",
   "execution_count": 25,
   "id": "e7bb33da",
   "metadata": {},
   "outputs": [],
   "source": [
    "from keras.callbacks import EarlyStopping,ModelCheckpoint\n"
   ]
  },
  {
   "cell_type": "code",
   "execution_count": 26,
   "id": "6be21af8",
   "metadata": {},
   "outputs": [],
   "source": [
    "earlystop=EarlyStopping(monitor=\"val_acc\",patience=10)\n",
    "#checkpoint=ModelCheckpoint(\"best_model.h5\",monitor=\"val_loss\",verbose=\"True\",save_best_only=True)"
   ]
  },
  {
   "cell_type": "code",
   "execution_count": 27,
   "id": "d139160a",
   "metadata": {},
   "outputs": [
    {
     "name": "stdout",
     "output_type": "stream",
     "text": [
      "Epoch 1/100\n",
      "2/2 [==============================] - 0s 90ms/step - loss: 0.0131 - acc: 1.0000 - val_loss: 0.8123 - val_acc: 0.7778\n",
      "Epoch 2/100\n",
      "2/2 [==============================] - 0s 70ms/step - loss: 0.0155 - acc: 1.0000 - val_loss: 0.8271 - val_acc: 0.7407\n",
      "Epoch 3/100\n",
      "2/2 [==============================] - 0s 107ms/step - loss: 0.0215 - acc: 1.0000 - val_loss: 0.8617 - val_acc: 0.7407\n",
      "Epoch 4/100\n",
      "2/2 [==============================] - 0s 96ms/step - loss: 0.0205 - acc: 1.0000 - val_loss: 0.9025 - val_acc: 0.7037\n",
      "Epoch 5/100\n",
      "2/2 [==============================] - 0s 101ms/step - loss: 0.0206 - acc: 1.0000 - val_loss: 0.9055 - val_acc: 0.7407\n",
      "Epoch 6/100\n",
      "2/2 [==============================] - 0s 89ms/step - loss: 0.0188 - acc: 1.0000 - val_loss: 0.8855 - val_acc: 0.7037\n",
      "Epoch 7/100\n",
      "2/2 [==============================] - 0s 104ms/step - loss: 0.0149 - acc: 1.0000 - val_loss: 0.8542 - val_acc: 0.7778\n",
      "Epoch 8/100\n",
      "2/2 [==============================] - 0s 124ms/step - loss: 0.0162 - acc: 1.0000 - val_loss: 0.8407 - val_acc: 0.7778\n",
      "Epoch 9/100\n",
      "2/2 [==============================] - 0s 121ms/step - loss: 0.0113 - acc: 1.0000 - val_loss: 0.8647 - val_acc: 0.7778\n",
      "Epoch 10/100\n",
      "2/2 [==============================] - 0s 105ms/step - loss: 0.0185 - acc: 1.0000 - val_loss: 0.8928 - val_acc: 0.7778\n",
      "Epoch 11/100\n",
      "2/2 [==============================] - 0s 89ms/step - loss: 0.0178 - acc: 1.0000 - val_loss: 0.8906 - val_acc: 0.7778\n"
     ]
    }
   ],
   "source": [
    "hist=model.fit(embedding_matrix_train,Y_train,epochs=100,batch_size=64,shuffle=True,validation_split=0.2,\n",
    "                callbacks=[earlystop])\n"
   ]
  },
  {
   "cell_type": "code",
   "execution_count": 28,
   "id": "253dc8a9",
   "metadata": {},
   "outputs": [
    {
     "name": "stdout",
     "output_type": "stream",
     "text": [
      "2/2 [==============================] - 0s 6ms/step - loss: 1.8493 - acc: 0.6429\n"
     ]
    },
    {
     "data": {
      "text/plain": [
       "[1.8492562770843506, 0.6428571343421936]"
      ]
     },
     "execution_count": 28,
     "metadata": {},
     "output_type": "execute_result"
    }
   ],
   "source": [
    "model.evaluate(embedding_matrix_test,Y_test)"
   ]
  },
  {
   "cell_type": "code",
   "execution_count": null,
   "id": "bccf3019",
   "metadata": {},
   "outputs": [],
   "source": []
  },
  {
   "cell_type": "code",
   "execution_count": 29,
   "id": "9a599c6f",
   "metadata": {},
   "outputs": [],
   "source": [
    "## Training_stacked LSTM model\n"
   ]
  },
  {
   "cell_type": "code",
   "execution_count": 30,
   "id": "abcc3456",
   "metadata": {},
   "outputs": [
    {
     "name": "stdout",
     "output_type": "stream",
     "text": [
      "Model: \"sequential_1\"\n",
      "_________________________________________________________________\n",
      "Layer (type)                 Output Shape              Param #   \n",
      "=================================================================\n",
      "lstm_1 (LSTM)                (None, 10, 64)            29440     \n",
      "_________________________________________________________________\n",
      "dropout_1 (Dropout)          (None, 10, 64)            0         \n",
      "_________________________________________________________________\n",
      "lstm_2 (LSTM)                (None, 64)                33024     \n",
      "_________________________________________________________________\n",
      "dropout_2 (Dropout)          (None, 64)                0         \n",
      "_________________________________________________________________\n",
      "dense_1 (Dense)              (None, 5)                 325       \n",
      "=================================================================\n",
      "Total params: 62,789\n",
      "Trainable params: 62,789\n",
      "Non-trainable params: 0\n",
      "_________________________________________________________________\n"
     ]
    }
   ],
   "source": [
    "stackedmodel=Sequential()\n",
    "stackedmodel.add(LSTM(64,input_shape=(10,50),return_sequences=True))\n",
    "stackedmodel.add(Dropout(0.5))\n",
    "stackedmodel.add(LSTM(64,return_sequences=False))\n",
    "stackedmodel.add(Dropout(0.5))\n",
    "stackedmodel.add(Dense(5,activation=\"softmax\"))\n",
    "stackedmodel.compile(loss='categorical_crossentropy',optimizer='adam',metrics=['acc'])\n",
    "stackedmodel.summary()"
   ]
  },
  {
   "cell_type": "code",
   "execution_count": 31,
   "id": "d50bce98",
   "metadata": {},
   "outputs": [
    {
     "name": "stdout",
     "output_type": "stream",
     "text": [
      "Epoch 1/100\n",
      "2/2 [==============================] - 7s 1s/step - loss: 1.6108 - acc: 0.1619 - val_loss: 1.6082 - val_acc: 0.2593\n",
      "Epoch 2/100\n",
      "2/2 [==============================] - 0s 60ms/step - loss: 1.5689 - acc: 0.2571 - val_loss: 1.6167 - val_acc: 0.2593\n",
      "Epoch 3/100\n",
      "2/2 [==============================] - 0s 62ms/step - loss: 1.5424 - acc: 0.3048 - val_loss: 1.6270 - val_acc: 0.2593\n",
      "Epoch 4/100\n",
      "2/2 [==============================] - 0s 61ms/step - loss: 1.5104 - acc: 0.3429 - val_loss: 1.6422 - val_acc: 0.2593\n",
      "Epoch 5/100\n",
      "2/2 [==============================] - 0s 61ms/step - loss: 1.4838 - acc: 0.3810 - val_loss: 1.6571 - val_acc: 0.2593\n",
      "Epoch 6/100\n",
      "2/2 [==============================] - 0s 63ms/step - loss: 1.4815 - acc: 0.3714 - val_loss: 1.6660 - val_acc: 0.2593\n",
      "Epoch 7/100\n",
      "2/2 [==============================] - 0s 62ms/step - loss: 1.4871 - acc: 0.3333 - val_loss: 1.6631 - val_acc: 0.2593\n",
      "Epoch 8/100\n",
      "2/2 [==============================] - 0s 63ms/step - loss: 1.4155 - acc: 0.4667 - val_loss: 1.6520 - val_acc: 0.2963\n",
      "Epoch 9/100\n",
      "2/2 [==============================] - 0s 61ms/step - loss: 1.4144 - acc: 0.4190 - val_loss: 1.6375 - val_acc: 0.2593\n",
      "Epoch 10/100\n",
      "2/2 [==============================] - 0s 60ms/step - loss: 1.3731 - acc: 0.4571 - val_loss: 1.6265 - val_acc: 0.2963\n",
      "Epoch 11/100\n",
      "2/2 [==============================] - 0s 62ms/step - loss: 1.3253 - acc: 0.5238 - val_loss: 1.6187 - val_acc: 0.2963\n",
      "Epoch 12/100\n",
      "2/2 [==============================] - 0s 67ms/step - loss: 1.3485 - acc: 0.4667 - val_loss: 1.6000 - val_acc: 0.2963\n",
      "Epoch 13/100\n",
      "2/2 [==============================] - 0s 64ms/step - loss: 1.2676 - acc: 0.5048 - val_loss: 1.5738 - val_acc: 0.3333\n",
      "Epoch 14/100\n",
      "2/2 [==============================] - 0s 93ms/step - loss: 1.2506 - acc: 0.5429 - val_loss: 1.5279 - val_acc: 0.3333\n",
      "Epoch 15/100\n",
      "2/2 [==============================] - 0s 106ms/step - loss: 1.1755 - acc: 0.5429 - val_loss: 1.4733 - val_acc: 0.3333\n",
      "Epoch 16/100\n",
      "2/2 [==============================] - 0s 70ms/step - loss: 1.1327 - acc: 0.5810 - val_loss: 1.4221 - val_acc: 0.3333\n",
      "Epoch 17/100\n",
      "2/2 [==============================] - 0s 65ms/step - loss: 1.0875 - acc: 0.6286 - val_loss: 1.3747 - val_acc: 0.3704\n",
      "Epoch 18/100\n",
      "2/2 [==============================] - 0s 94ms/step - loss: 1.1056 - acc: 0.5905 - val_loss: 1.3465 - val_acc: 0.4074\n",
      "Epoch 19/100\n",
      "2/2 [==============================] - 0s 102ms/step - loss: 0.9959 - acc: 0.6190 - val_loss: 1.3001 - val_acc: 0.4444\n",
      "Epoch 20/100\n",
      "2/2 [==============================] - 0s 64ms/step - loss: 0.9616 - acc: 0.6190 - val_loss: 1.2654 - val_acc: 0.4815\n",
      "Epoch 21/100\n",
      "2/2 [==============================] - 0s 112ms/step - loss: 0.8895 - acc: 0.6762 - val_loss: 1.2554 - val_acc: 0.4444\n",
      "Epoch 22/100\n",
      "2/2 [==============================] - 0s 78ms/step - loss: 0.8492 - acc: 0.7048 - val_loss: 1.2038 - val_acc: 0.5185\n",
      "Epoch 23/100\n",
      "2/2 [==============================] - 0s 73ms/step - loss: 0.7956 - acc: 0.7238 - val_loss: 1.1569 - val_acc: 0.5556\n",
      "Epoch 24/100\n",
      "2/2 [==============================] - 0s 113ms/step - loss: 0.7172 - acc: 0.7714 - val_loss: 1.1179 - val_acc: 0.5185\n",
      "Epoch 25/100\n",
      "2/2 [==============================] - 0s 107ms/step - loss: 0.6746 - acc: 0.8095 - val_loss: 1.1116 - val_acc: 0.5556\n",
      "Epoch 26/100\n",
      "2/2 [==============================] - 0s 65ms/step - loss: 0.6462 - acc: 0.8095 - val_loss: 1.0329 - val_acc: 0.5926\n",
      "Epoch 27/100\n",
      "2/2 [==============================] - 0s 93ms/step - loss: 0.5899 - acc: 0.8190 - val_loss: 1.0053 - val_acc: 0.5926\n",
      "Epoch 28/100\n",
      "2/2 [==============================] - 0s 117ms/step - loss: 0.6075 - acc: 0.8095 - val_loss: 0.9232 - val_acc: 0.5556\n",
      "Epoch 29/100\n",
      "2/2 [==============================] - 0s 96ms/step - loss: 0.5416 - acc: 0.8286 - val_loss: 0.9583 - val_acc: 0.5926\n",
      "Epoch 30/100\n",
      "2/2 [==============================] - 0s 95ms/step - loss: 0.5292 - acc: 0.8667 - val_loss: 1.0101 - val_acc: 0.5926\n",
      "Epoch 31/100\n",
      "2/2 [==============================] - 0s 80ms/step - loss: 0.4621 - acc: 0.8286 - val_loss: 1.0325 - val_acc: 0.5926\n",
      "Epoch 32/100\n",
      "2/2 [==============================] - 0s 70ms/step - loss: 0.4075 - acc: 0.8667 - val_loss: 1.0540 - val_acc: 0.6296\n",
      "Epoch 33/100\n",
      "2/2 [==============================] - 0s 63ms/step - loss: 0.4260 - acc: 0.8571 - val_loss: 1.1275 - val_acc: 0.6667\n",
      "Epoch 34/100\n",
      "2/2 [==============================] - 0s 67ms/step - loss: 0.3577 - acc: 0.8857 - val_loss: 1.2472 - val_acc: 0.7037\n",
      "Epoch 35/100\n",
      "2/2 [==============================] - 0s 63ms/step - loss: 0.3613 - acc: 0.8762 - val_loss: 0.9488 - val_acc: 0.6296\n",
      "Epoch 36/100\n",
      "2/2 [==============================] - 0s 64ms/step - loss: 0.3382 - acc: 0.8857 - val_loss: 1.0797 - val_acc: 0.7037\n",
      "Epoch 37/100\n",
      "2/2 [==============================] - 0s 65ms/step - loss: 0.3127 - acc: 0.9048 - val_loss: 1.0505 - val_acc: 0.7407\n",
      "Epoch 38/100\n",
      "2/2 [==============================] - 0s 86ms/step - loss: 0.2468 - acc: 0.9333 - val_loss: 0.9822 - val_acc: 0.7407\n",
      "Epoch 39/100\n",
      "2/2 [==============================] - 0s 87ms/step - loss: 0.2329 - acc: 0.9429 - val_loss: 1.0069 - val_acc: 0.7407\n",
      "Epoch 40/100\n",
      "2/2 [==============================] - 0s 83ms/step - loss: 0.2374 - acc: 0.9333 - val_loss: 0.9818 - val_acc: 0.7407\n",
      "Epoch 41/100\n",
      "2/2 [==============================] - 0s 87ms/step - loss: 0.2312 - acc: 0.9333 - val_loss: 1.0604 - val_acc: 0.7407\n",
      "Epoch 42/100\n",
      "2/2 [==============================] - 0s 100ms/step - loss: 0.2120 - acc: 0.9524 - val_loss: 1.0719 - val_acc: 0.7407\n",
      "Epoch 43/100\n",
      "2/2 [==============================] - 0s 68ms/step - loss: 0.1547 - acc: 0.9714 - val_loss: 1.1753 - val_acc: 0.7407\n",
      "Epoch 44/100\n",
      "2/2 [==============================] - 0s 72ms/step - loss: 0.2510 - acc: 0.8952 - val_loss: 1.1615 - val_acc: 0.7037\n",
      "Epoch 45/100\n",
      "2/2 [==============================] - 0s 79ms/step - loss: 0.2118 - acc: 0.9429 - val_loss: 1.0732 - val_acc: 0.7407\n",
      "Epoch 46/100\n",
      "2/2 [==============================] - 0s 91ms/step - loss: 0.1728 - acc: 0.9333 - val_loss: 1.0670 - val_acc: 0.7037\n",
      "Epoch 47/100\n",
      "2/2 [==============================] - 0s 63ms/step - loss: 0.3228 - acc: 0.8762 - val_loss: 0.9396 - val_acc: 0.7407\n"
     ]
    }
   ],
   "source": [
    "hist=stackedmodel.fit(embedding_matrix_train,Y_train,epochs=100,batch_size=64,shuffle=True,validation_split=0.2,\n",
    "                callbacks=[earlystop])"
   ]
  },
  {
   "cell_type": "code",
   "execution_count": 33,
   "id": "2660391e",
   "metadata": {},
   "outputs": [
    {
     "name": "stdout",
     "output_type": "stream",
     "text": [
      "2/2 [==============================] - 0s 8ms/step - loss: 1.6760 - acc: 0.6429\n"
     ]
    },
    {
     "data": {
      "text/plain": [
       "[1.676003098487854, 0.6428571343421936]"
      ]
     },
     "execution_count": 33,
     "metadata": {},
     "output_type": "execute_result"
    }
   ],
   "source": [
    "stackedmodel.evaluate(embedding_matrix_test,Y_test)"
   ]
  },
  {
   "cell_type": "code",
   "execution_count": 35,
   "id": "f730bc5b",
   "metadata": {},
   "outputs": [
    {
     "data": {
      "text/plain": [
       "array([4, 3, 2, 3, 2, 2, 3, 2, 4, 2, 1, 2, 0, 3, 1, 3, 3, 2, 3, 2, 3, 0,\n",
       "       4, 2, 3, 3, 2, 0, 4, 2, 0, 1, 3, 2, 0, 1, 2, 3, 4, 2, 1, 0, 0, 1,\n",
       "       2, 2, 2, 2, 3, 3, 3, 0, 3, 2, 3, 3], dtype=int64)"
      ]
     },
     "execution_count": 35,
     "metadata": {},
     "output_type": "execute_result"
    }
   ],
   "source": [
    "predict_x=stackedmodel.predict(embedding_matrix_test) \n",
    "predict=np.argmax(predict_x,axis=1)\n",
    "predict"
   ]
  },
  {
   "cell_type": "code",
   "execution_count": 37,
   "id": "e91b578b",
   "metadata": {},
   "outputs": [
    {
     "name": "stdout",
     "output_type": "stream",
     "text": [
      "I want to eat\n",
      "🍴\n",
      "🍴\n",
      "he did not answer\n",
      "😞\n",
      "😞\n",
      "he got a raise\n",
      "😃\n",
      "😃\n",
      "she got me a present\n",
      "❤️\n",
      "😞\n",
      "ha ha ha it was so funny\n",
      "😃\n",
      "😃\n",
      "he is a good friend\n",
      "❤️\n",
      "😃\n",
      "I am upset\n",
      "❤️\n",
      "😞\n",
      "We had such a lovely dinner tonight\n",
      "❤️\n",
      "😃\n",
      "where is the food\n",
      "🍴\n",
      "🍴\n",
      "Stop making this joke ha ha ha\n",
      "😃\n",
      "😃\n",
      "where is the ball\n",
      "⚾\n",
      "⚾\n",
      "work is hard\n",
      "😞\n",
      "😃\n",
      "This girl is messing with me\n",
      "😞\n",
      "❤️\n",
      "are you serious ha ha\n",
      "😃\n",
      "😞\n",
      "Let us go play baseball\n",
      "⚾\n",
      "⚾\n",
      "This stupid grader is not working\n",
      "😞\n",
      "😞\n",
      "work is horrible\n",
      "😞\n",
      "😞\n",
      "Congratulation for having a baby\n",
      "😃\n",
      "😃\n",
      "stop messing around\n",
      "😞\n",
      "😞\n",
      "any suggestions for dinner\n",
      "🍴\n",
      "😃\n",
      "I love taking breaks\n",
      "❤️\n",
      "😞\n",
      "you brighten my day\n",
      "😃\n",
      "❤️\n",
      "I boiled rice\n",
      "🍴\n",
      "🍴\n",
      "she is a bully\n",
      "😞\n",
      "😃\n",
      "Why are you feeling bad\n",
      "😞\n",
      "😞\n",
      "I am upset\n",
      "😞\n",
      "😞\n",
      "I worked during my birthday\n",
      "😞\n",
      "😃\n",
      "My grandmother is the love of my life\n",
      "❤️\n",
      "❤️\n",
      "enjoy your break\n",
      "😃\n",
      "🍴\n",
      "valentine day is near\n",
      "❤️\n",
      "😃\n"
     ]
    }
   ],
   "source": [
    "for i in range(30):\n",
    "    print(\" \".join(X_test[i]))\n",
    "    print(emoji.emojize(emoji_dictionary[str(np.argmax(Y_test[i]))]))\n",
    "    print(emoji.emojize(emoji_dictionary[str(predict[i])]))"
   ]
  }
 ],
 "metadata": {
  "kernelspec": {
   "display_name": "Python 3 (ipykernel)",
   "language": "python",
   "name": "python3"
  },
  "language_info": {
   "codemirror_mode": {
    "name": "ipython",
    "version": 3
   },
   "file_extension": ".py",
   "mimetype": "text/x-python",
   "name": "python",
   "nbconvert_exporter": "python",
   "pygments_lexer": "ipython3",
   "version": "3.9.6"
  }
 },
 "nbformat": 4,
 "nbformat_minor": 5
}
